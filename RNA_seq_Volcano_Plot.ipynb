{
  "nbformat": 4,
  "nbformat_minor": 0,
  "metadata": {
    "colab": {
      "name": "RNA-seq Volcano Plot",
      "provenance": [],
      "collapsed_sections": [],
      "include_colab_link": true
    },
    "kernelspec": {
      "name": "python3",
      "display_name": "Python 3"
    },
    "accelerator": "GPU"
  },
  "cells": [
    {
      "cell_type": "markdown",
      "metadata": {
        "id": "view-in-github",
        "colab_type": "text"
      },
      "source": [
        "<a href=\"https://colab.research.google.com/github/vinmperez/Useful-Scripts/blob/master/RNA_seq_Volcano_Plot.ipynb\" target=\"_parent\"><img src=\"https://colab.research.google.com/assets/colab-badge.svg\" alt=\"Open In Colab\"/></a>"
      ]
    },
    {
      "cell_type": "markdown",
      "metadata": {
        "colab_type": "text",
        "id": "-Or-1OxCJkrB"
      },
      "source": [
        "**Now we're going to mount our google drive so we can use the files in the drive to work on.**"
      ]
    },
    {
      "cell_type": "code",
      "metadata": {
        "colab_type": "code",
        "id": "RWSJpsyKqHjH",
        "outputId": "2fdda5fa-c411-427e-fd0e-cff4f77786f6",
        "colab": {
          "base_uri": "https://localhost:8080/",
          "height": 129
        }
      },
      "source": [
        "from google.colab import drive\n",
        "drive.mount('/content/gdrive')"
      ],
      "execution_count": 1,
      "outputs": [
        {
          "output_type": "stream",
          "text": [
            "Go to this URL in a browser: https://accounts.google.com/o/oauth2/auth?client_id=947318989803-6bn6qk8qdgf4n4g3pfee6491hc0brc4i.apps.googleusercontent.com&redirect_uri=urn%3Aietf%3Awg%3Aoauth%3A2.0%3Aoob&scope=email%20https%3A%2F%2Fwww.googleapis.com%2Fauth%2Fdocs.test%20https%3A%2F%2Fwww.googleapis.com%2Fauth%2Fdrive%20https%3A%2F%2Fwww.googleapis.com%2Fauth%2Fdrive.photos.readonly%20https%3A%2F%2Fwww.googleapis.com%2Fauth%2Fpeopleapi.readonly&response_type=code\n",
            "\n",
            "Enter your authorization code:\n",
            "··········\n",
            "Mounted at /content/gdrive\n"
          ],
          "name": "stdout"
        }
      ]
    },
    {
      "cell_type": "markdown",
      "metadata": {
        "colab_type": "text",
        "id": "1n7z-7d1Jn0j"
      },
      "source": [
        "**Lets list what we've got in our drive specific to the folder we want to work on. **"
      ]
    },
    {
      "cell_type": "code",
      "metadata": {
        "id": "4aSXIVViIJQn",
        "colab_type": "code",
        "outputId": "15724942-f3f4-447b-ae7e-2d475a0e3d68",
        "colab": {
          "base_uri": "https://localhost:8080/",
          "height": 35
        }
      },
      "source": [
        "!ls \"/content/gdrive/My Drive/RNA-seq Archive Backup (134 -136)/Exp 134/C202SC18050484_Mus_musculus_TR_result/C202SC18050484_Mus_musculus_results/0.SuppFiles\""
      ],
      "execution_count": 11,
      "outputs": [
        {
          "output_type": "stream",
          "text": [
            "CDVP_Peptide_table.csv\tCDVP_Protein_table.csv\n"
          ],
          "name": "stdout"
        }
      ]
    },
    {
      "cell_type": "markdown",
      "metadata": {
        "id": "qfVZgyJeQtrV",
        "colab_type": "text"
      },
      "source": [
        "**Okay, so that's an intro. Let's read a file in another directory and make a quick volcano plot.**"
      ]
    },
    {
      "cell_type": "code",
      "metadata": {
        "id": "7QUIe5zHUTDe",
        "colab_type": "code",
        "colab": {}
      },
      "source": [
        "import pandas as pd\n",
        "import matplotlib.pyplot as plt\n",
        "import numpy as np"
      ],
      "execution_count": 0,
      "outputs": []
    },
    {
      "cell_type": "code",
      "metadata": {
        "id": "NP1q_VuYOQ_V",
        "colab_type": "code",
        "outputId": "a428e32b-08c3-4a50-fa95-b8da63482c60",
        "colab": {
          "base_uri": "https://localhost:8080/",
          "height": 277
        }
      },
      "source": [
        "d=pd.read_csv(\"/content/gdrive/My Drive/RNA-seq Archive Backup (134 -136)/Exp 134/C202SC18050484_Mus_musculus_TR_result/C202SC18050484_Mus_musculus_results/0.SuppFiles/volcano_males.csv\")\n",
        "print(d.head())\n",
        "print(d.info()) "
      ],
      "execution_count": 0,
      "outputs": [
        {
          "output_type": "stream",
          "text": [
            "           genes   logFC   Pvalue\n",
            "0  1500015L24Rik -4.3190  0.47274\n",
            "1          Moxd1 -4.2526  0.55105\n",
            "2        Gm26583 -4.1545  0.91736\n",
            "3       Mirlet7i -4.1195  0.89593\n",
            "4        Gm43024 -3.9913  1.00000\n",
            "<class 'pandas.core.frame.DataFrame'>\n",
            "RangeIndex: 21857 entries, 0 to 21856\n",
            "Data columns (total 3 columns):\n",
            "genes     21853 non-null object\n",
            "logFC     21857 non-null float64\n",
            "Pvalue    21857 non-null float64\n",
            "dtypes: float64(2), object(1)\n",
            "memory usage: 512.4+ KB\n",
            "None\n"
          ],
          "name": "stdout"
        }
      ]
    },
    {
      "cell_type": "markdown",
      "metadata": {
        "id": "pWeyI8AoQHge",
        "colab_type": "text"
      },
      "source": [
        "Now, data is ready for volcano plot\n",
        "In volcano plot, Y-axis is -log10 normalized P-value\n",
        "NOTE: Here you may get \"RuntimeWarning: divide by zero encountered in log10\" where \n",
        "there is 0 P-value. To avoid this warning replace 0 with smallest non-zero P-value. \n",
        "To get smallest non-zero P-value, you can use d.nsmallest(2, 'p-value')\n",
        "replace 0 P-value with lowest non-zero P-value\n",
        "convert P-value to -log10 normalized P-value"
      ]
    },
    {
      "cell_type": "code",
      "metadata": {
        "id": "MBoqOxwyPBJ4",
        "colab_type": "code",
        "colab": {}
      },
      "source": [
        "d.loc[(d['logFC'] >= 1) & (d['Pvalue'] < 0.005), 'color'] = \"green\"  # upregulated\n",
        "d.loc[(d['logFC'] <=- 1) & (d['Pvalue'] < 0.005), 'color'] = \"red\"   # downregulated\n",
        "d['color'].fillna('grey', inplace=True) # intermediate\n",
        "d['logpv']=-(np.log10(d['Pvalue']))\n",
        "\n",
        "\n"
      ],
      "execution_count": 0,
      "outputs": []
    },
    {
      "cell_type": "markdown",
      "metadata": {
        "id": "mHUlvbIxQVBd",
        "colab_type": "text"
      },
      "source": [
        "Lets plot this biatch. \n",
        "I have added two gene names. You can add multiple gene names to corresponding point  \n",
        "using axis coordinates\n",
        "plt.text(4.09, 53.65, \"CPuORF26\")\n",
        "plt.text(-2.23, 39.73, \"CIA\")\n",
        "plt.show()\n",
        "To save volcano plot to file, replace  plt.show() with following line"
      ]
    },
    {
      "cell_type": "code",
      "metadata": {
        "id": "vw4dQVuqQet6",
        "colab_type": "code",
        "outputId": "d5e95bbd-61fa-48bd-d7c1-51c46874b28d",
        "colab": {
          "base_uri": "https://localhost:8080/",
          "height": 52
        }
      },
      "source": [
        "plt.style.use('seaborn-whitegrid')\n",
        "plt.scatter(d['logFC'], d['logpv'], c=d['color'], alpha=0.5)\n",
        "plt.title('Control 24hr Fast vs Control', fontsize=18, fontname='arial', loc='center', fontweight='bold')\n",
        "plt.xlabel('Log2 Fold Change',fontsize=15, fontname=\"arial\", fontweight=\"normal\")\n",
        "plt.ylabel('-Log10 P-Value', fontsize=15, fontname=\"arial\", fontweight=\"normal\")\n",
        "plt.xticks(fontsize=12, fontname=\"arial\")\n",
        "plt.yticks(fontsize=12, fontname=\"arial\")\n",
        "plt.savefig('WT Ctl-k 24 vs WT Ctl-k.png', format='png', bbox_inches='tight', dpi=300)"
      ],
      "execution_count": 0,
      "outputs": [
        {
          "output_type": "stream",
          "text": [
            "/usr/local/lib/python3.6/dist-packages/matplotlib/font_manager.py:1241: UserWarning: findfont: Font family ['arial'] not found. Falling back to DejaVu Sans.\n",
            "  (prop.get_family(), self.defaultFamily[fontext]))\n"
          ],
          "name": "stderr"
        }
      ]
    },
    {
      "cell_type": "code",
      "metadata": {
        "id": "HA1wXyobQ4PN",
        "colab_type": "code",
        "outputId": "e9427ef9-6dea-4afe-f30c-1f7b7c6901a6",
        "colab": {
          "base_uri": "https://localhost:8080/",
          "height": 34
        }
      },
      "source": [
        "!ls \"/content/gdrive/My Drive/google_collab\""
      ],
      "execution_count": 0,
      "outputs": [
        {
          "output_type": "stream",
          "text": [
            "'edgeR_results (wtctlk24vswtctlk).csv'\n"
          ],
          "name": "stdout"
        }
      ]
    }
  ]
}